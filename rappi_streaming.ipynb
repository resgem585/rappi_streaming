{
 "cells": [
  {
   "cell_type": "code",
   "execution_count": 24,
   "metadata": {},
   "outputs": [],
   "source": [
    "import pandas as pd\n",
    "import random\n",
    "import time\n",
    "import hashlib\n",
    "\n",
    "from kafka import KafkaProducer\n",
    "from confluent_kafka import Producer\n",
    "import socket\n",
    "import json\n",
    "import os\n",
    "\n",
    "from kafka_auth import conf"
   ]
  },
  {
   "cell_type": "code",
   "execution_count": 2,
   "metadata": {},
   "outputs": [],
   "source": [
    "# Leer el archivo CSV\n",
    "df = pd.read_csv('Sales_simulation.csv', usecols=['Category', 'Name', 'Purchase Price', 'Delivery Price'])\n"
   ]
  },
  {
   "cell_type": "code",
   "execution_count": 3,
   "metadata": {},
   "outputs": [],
   "source": [
    "cities = ['Bogotá', 'Medellín', 'Cali', 'Bucaramanga', 'Barranquilla']\n",
    "payment_online = ['Credit_card', 'PSE']\n",
    "payment_store = ['Cash', 'Nequi', 'Daviplata', 'Credit_card']\n",
    "source = ['Facebook', 'Instagram', 'Organic', 'Twitter', 'Influencer_1', 'Influencer_2', 'Influencer_3', 'Influencer_4']\n",
    "status_purchase = ['COMPLETED', 'FAILED_CHECKOUT', 'FAILED_API_RESPONSE', 'INSUFICCIENT_FUNDS', 'COMPLETED', 'COMPLETED', 'COMPLETED', 'COMPLETED', 'COMPLETED', 'COMPLETED', 'FAILED_API_RESPONSE', 'INSUFICCIENT_FUNDS', 'USER_ERROR', 'FRAUD', 'COMPLETED', 'COMPLETED', 'COMPLETED']"
   ]
  },
  {
   "cell_type": "code",
   "execution_count": 4,
   "metadata": {},
   "outputs": [],
   "source": [
    "bog_coords = [(4.651600960108946, -74.12628850377475), (4.661984763443271, -74.13466548843223), (4.647569693587232, -74.10186525959672)]\n",
    "buc_coords = [(7.099917472863198, -73.10730617492302), (7.07243688331635, -73.10525936227518)]\n",
    "cali_coords = [(3.4287786094866717, -76.53749228193497), (3.4148803158142966, -76.54041613631288), (3.4164091379805432, -76.54751692551635)]\n",
    "bar_coords = [(11.014167139030025, -74.82747678131524), (11.004041676077495, -74.83545204769058), (10.990580146449894, -74.78876005521157)]\n",
    "mede_coords = [(6.163315879042265, -75.6052691935286), (6.17784573272914, -75.59141059178306), (6.198053256721469, -75.5733524126965)]"
   ]
  },
  {
   "cell_type": "code",
   "execution_count": 5,
   "metadata": {},
   "outputs": [],
   "source": [
    "# Función para obtener los créditos a favor del usuario\n",
    "def get_user_credits():\n",
    "    return random.choice([0, 2000, 5000, 10000, 15000, 20000])"
   ]
  },
  {
   "cell_type": "code",
   "execution_count": 6,
   "metadata": {},
   "outputs": [],
   "source": [
    "def get_coords(city):\n",
    "    \n",
    "    if city == 'Bogotá' :\n",
    "        coords = random.choice(bog_coords)\n",
    "    elif city == 'Medellín' :\n",
    "        coords = random.choice(mede_coords)\n",
    "    elif city == 'Cali' :\n",
    "        coords = random.choice(cali_coords)\n",
    "    elif city == 'Bucaramanga' :\n",
    "        coords = random.choice(buc_coords)\n",
    "    elif city == 'Barranquilla' :\n",
    "        coords = random.choice(bar_coords)\n",
    "        \n",
    "    return coords "
   ]
  },
  {
   "cell_type": "code",
   "execution_count": 7,
   "metadata": {},
   "outputs": [],
   "source": [
    "def get_pay_method(source,status_purchase,payment_online,payment_store):\n",
    "    \n",
    "    if source == 'Organic' :\n",
    "        \n",
    "        payment = random.choice(payment_store)\n",
    "        status = 'COMPLETED'\n",
    "        order_type = 'STORE'\n",
    "    \n",
    "    elif source != 'Organic' :\n",
    "        \n",
    "        payment = random.choice(payment_online)\n",
    "        status = random.choice(status_purchase)\n",
    "        order_type = 'ONLINE'\n",
    "    \n",
    "    return payment,status,order_type   "
   ]
  },
  {
   "cell_type": "code",
   "execution_count": 8,
   "metadata": {},
   "outputs": [],
   "source": [
    "# Función para obtener la propina para el domiciliario\n",
    "def get_tip():\n",
    "    return random.choice([0, 2000, 3000, 5000])\n"
   ]
  },
  {
   "cell_type": "code",
   "execution_count": 45,
   "metadata": {},
   "outputs": [
    {
     "data": {
      "text/html": [
       "<div>\n",
       "<style scoped>\n",
       "    .dataframe tbody tr th:only-of-type {\n",
       "        vertical-align: middle;\n",
       "    }\n",
       "\n",
       "    .dataframe tbody tr th {\n",
       "        vertical-align: top;\n",
       "    }\n",
       "\n",
       "    .dataframe thead th {\n",
       "        text-align: right;\n",
       "    }\n",
       "</style>\n",
       "<table border=\"1\" class=\"dataframe\">\n",
       "  <thead>\n",
       "    <tr style=\"text-align: right;\">\n",
       "      <th></th>\n",
       "      <th>Category</th>\n",
       "      <th>Name</th>\n",
       "      <th>Purchase Price</th>\n",
       "      <th>Delivery Price</th>\n",
       "    </tr>\n",
       "  </thead>\n",
       "  <tbody>\n",
       "    <tr>\n",
       "      <th>0</th>\n",
       "      <td>Saludable · Desayunos</td>\n",
       "      <td>Distrito Gourmet</td>\n",
       "      <td>10700</td>\n",
       "      <td>3700</td>\n",
       "    </tr>\n",
       "    <tr>\n",
       "      <th>1</th>\n",
       "      <td>Postres</td>\n",
       "      <td>Toledo Pastelería</td>\n",
       "      <td>53900</td>\n",
       "      <td>6800</td>\n",
       "    </tr>\n",
       "    <tr>\n",
       "      <th>2</th>\n",
       "      <td>Postres · Helados</td>\n",
       "      <td>Mahé</td>\n",
       "      <td>7500</td>\n",
       "      <td>6000</td>\n",
       "    </tr>\n",
       "    <tr>\n",
       "      <th>3</th>\n",
       "      <td>Hamburguesas · Saludable</td>\n",
       "      <td>Restaurant Inn</td>\n",
       "      <td>23000</td>\n",
       "      <td>6100</td>\n",
       "    </tr>\n",
       "    <tr>\n",
       "      <th>4</th>\n",
       "      <td>Postres · Desayunos</td>\n",
       "      <td>Maria Luisa - Postres</td>\n",
       "      <td>9000</td>\n",
       "      <td>4300</td>\n",
       "    </tr>\n",
       "    <tr>\n",
       "      <th>...</th>\n",
       "      <td>...</td>\n",
       "      <td>...</td>\n",
       "      <td>...</td>\n",
       "      <td>...</td>\n",
       "    </tr>\n",
       "    <tr>\n",
       "      <th>23225</th>\n",
       "      <td>Desayunos · Típica</td>\n",
       "      <td>La Frijolada</td>\n",
       "      <td>8900</td>\n",
       "      <td>4500</td>\n",
       "    </tr>\n",
       "    <tr>\n",
       "      <th>23226</th>\n",
       "      <td>Típica</td>\n",
       "      <td>Sopitas y Más</td>\n",
       "      <td>31800</td>\n",
       "      <td>4200</td>\n",
       "    </tr>\n",
       "    <tr>\n",
       "      <th>23227</th>\n",
       "      <td>Desayunos · Típica</td>\n",
       "      <td>Calentao Express</td>\n",
       "      <td>23000</td>\n",
       "      <td>6000</td>\n",
       "    </tr>\n",
       "    <tr>\n",
       "      <th>23228</th>\n",
       "      <td>Desayunos · Árabe</td>\n",
       "      <td>Boniato Sabores Vivos</td>\n",
       "      <td>37900</td>\n",
       "      <td>5300</td>\n",
       "    </tr>\n",
       "    <tr>\n",
       "      <th>23229</th>\n",
       "      <td>Típica</td>\n",
       "      <td>Bandejas Mrg</td>\n",
       "      <td>17800</td>\n",
       "      <td>3800</td>\n",
       "    </tr>\n",
       "  </tbody>\n",
       "</table>\n",
       "<p>23230 rows × 4 columns</p>\n",
       "</div>"
      ],
      "text/plain": [
       "                       Category                   Name  Purchase Price  \\\n",
       "0         Saludable · Desayunos       Distrito Gourmet           10700   \n",
       "1                       Postres      Toledo Pastelería           53900   \n",
       "2             Postres · Helados                   Mahé            7500   \n",
       "3      Hamburguesas · Saludable         Restaurant Inn           23000   \n",
       "4           Postres · Desayunos  Maria Luisa - Postres            9000   \n",
       "...                         ...                    ...             ...   \n",
       "23225        Desayunos · Típica           La Frijolada            8900   \n",
       "23226                    Típica          Sopitas y Más           31800   \n",
       "23227        Desayunos · Típica       Calentao Express           23000   \n",
       "23228         Desayunos · Árabe  Boniato Sabores Vivos           37900   \n",
       "23229                    Típica           Bandejas Mrg           17800   \n",
       "\n",
       "       Delivery Price  \n",
       "0                3700  \n",
       "1                6800  \n",
       "2                6000  \n",
       "3                6100  \n",
       "4                4300  \n",
       "...               ...  \n",
       "23225            4500  \n",
       "23226            4200  \n",
       "23227            6000  \n",
       "23228            5300  \n",
       "23229            3800  \n",
       "\n",
       "[23230 rows x 4 columns]"
      ]
     },
     "execution_count": 45,
     "metadata": {},
     "output_type": "execute_result"
    }
   ],
   "source": [
    "df  \n"
   ]
  },
  {
   "cell_type": "code",
   "execution_count": 46,
   "metadata": {},
   "outputs": [
    {
     "data": {
      "text/plain": [
       "{'bootstrap.servers': 'pkc-p11xm.us-east-1.aws.confluent.cloud:9092',\n",
       " 'security.protocol': 'SASL_SSL',\n",
       " 'sasl.mechanisms': 'PLAIN',\n",
       " 'sasl.username': '7FERWKPQY5EE7ZG5',\n",
       " 'sasl.password': 'm9Us1yrmUU3JkG32Nc2ovCBFdxEMeX5WH0xbFGM3+aX4WHDu2ciCE6X5xHrnXc1r'}"
      ]
     },
     "execution_count": 46,
     "metadata": {},
     "output_type": "execute_result"
    }
   ],
   "source": [
    "conf"
   ]
  },
  {
   "cell_type": "code",
   "execution_count": 47,
   "metadata": {},
   "outputs": [
    {
     "name": "stderr",
     "output_type": "stream",
     "text": [
      "%4|1710191074.707|TERMINATE|rdkafka#producer-1| [thrd:app]: Producer terminating with 1 message (429 bytes) still in queue or transit: use flush() to wait for outstanding message delivery\n"
     ]
    }
   ],
   "source": [
    "# conf = ccloud_lib.read_ccloud_config('librdkafka.config')\n",
    "\n",
    "# # Create Producer instance\n",
    "# producer_conf = ccloud_lib.pop_schema_registry_params_from_config(conf)\n",
    "# producer = Producer(producer_conf)\n",
    "\n",
    "producer = Producer(conf)"
   ]
  },
  {
   "cell_type": "code",
   "execution_count": 51,
   "metadata": {},
   "outputs": [
    {
     "name": "stdout",
     "output_type": "stream",
     "text": [
      "Producing record: Purchase_simulator\tb'{\"purchase_ID\": \"51a166108e\", \"Product_name\": \"El Pan de Phillippe\", \"Pricing\": \"8900\", \"Delivery_Price\": \"4600\", \"Category\": \"Desayunos \\\\u00b7 Panader\\\\u00eda\", \"Payment_Method\": \"PSE\", \"Status\": \"COMPLETED\", \"Order_Type\": \"ONLINE\", \"City\": \"Bogot\\\\u00e1\", \"Latitud\": \"4.661984763443271\", \"Longitud\": \"-74.10186525959672\", \"Source\": \"Influencer_2\", \"User_Credits\": 5000, \"Tip\": 2000, \"Estimated_Delivery_Time\": 36, \"Created_at\": \"2024-03-11 18:08:27\"}'\n",
      "Producing record: Purchase_simulator\tb'{\"purchase_ID\": \"58c5692c21\", \"Product_name\": \"Maracuy\\\\u00e1\", \"Pricing\": \"13000\", \"Delivery_Price\": \"6700\", \"Category\": \"Saludable \\\\u00b7 Desayunos\", \"Payment_Method\": \"Credit_card\", \"Status\": \"COMPLETED\", \"Order_Type\": \"ONLINE\", \"City\": \"Medell\\\\u00edn\", \"Latitud\": \"6.163315879042265\", \"Longitud\": \"-75.59141059178306\", \"Source\": \"Influencer_2\", \"User_Credits\": 2000, \"Tip\": 2000, \"Estimated_Delivery_Time\": 35, \"Created_at\": \"2024-03-11 18:08:28\"}'\n",
      "Producing record: Purchase_simulator\tb'{\"purchase_ID\": \"acef1a875e\", \"Product_name\": \"Maracuy\\\\u00e1\", \"Pricing\": \"34500\", \"Delivery_Price\": \"6700\", \"Category\": \"Saludable \\\\u00b7 Desayunos\", \"Payment_Method\": \"Cash\", \"Status\": \"COMPLETED\", \"Order_Type\": \"STORE\", \"City\": \"Bogot\\\\u00e1\", \"Latitud\": \"4.651600960108946\", \"Longitud\": \"-74.13466548843223\", \"Source\": \"Organic\", \"User_Credits\": 2000, \"Tip\": 0, \"Estimated_Delivery_Time\": 34, \"Created_at\": \"2024-03-11 18:08:29\"}'\n",
      "Producing record: Purchase_simulator\tb'{\"purchase_ID\": \"fdde403067\", \"Product_name\": \"Maria Luisa - Postres\", \"Pricing\": \"27800\", \"Delivery_Price\": \"4300\", \"Category\": \"Postres \\\\u00b7 Desayunos\", \"Payment_Method\": \"Credit_card\", \"Status\": \"FAILED_CHECKOUT\", \"Order_Type\": \"ONLINE\", \"City\": \"Bogot\\\\u00e1\", \"Latitud\": \"4.647569693587232\", \"Longitud\": \"-74.13466548843223\", \"Source\": \"Facebook\", \"User_Credits\": 2000, \"Tip\": 0, \"Estimated_Delivery_Time\": 32, \"Created_at\": \"2024-03-11 18:08:30\"}'\n",
      "Producing record: Purchase_simulator\tb'{\"purchase_ID\": \"8f9fb23d94\", \"Product_name\": \"La Frijolada Desayunos\", \"Pricing\": \"37900\", \"Delivery_Price\": \"4400\", \"Category\": \"Desayunos\", \"Payment_Method\": \"Credit_card\", \"Status\": \"COMPLETED\", \"Order_Type\": \"ONLINE\", \"City\": \"Medell\\\\u00edn\", \"Latitud\": \"6.17784573272914\", \"Longitud\": \"-75.5733524126965\", \"Source\": \"Influencer_3\", \"User_Credits\": 15000, \"Tip\": 3000, \"Estimated_Delivery_Time\": 41, \"Created_at\": \"2024-03-11 18:08:31\"}'\n",
      "Producing record: Purchase_simulator\tb'{\"purchase_ID\": \"5cd54ce4da\", \"Product_name\": \"The Angels Grill and Drinks\", \"Pricing\": \"45800\", \"Delivery_Price\": \"6200\", \"Category\": \"Saludable \\\\u00b7 Parrilla\", \"Payment_Method\": \"PSE\", \"Status\": \"COMPLETED\", \"Order_Type\": \"ONLINE\", \"City\": \"Bucaramanga\", \"Latitud\": \"7.099917472863198\", \"Longitud\": \"-73.10730617492302\", \"Source\": \"Twitter\", \"User_Credits\": 5000, \"Tip\": 0, \"Estimated_Delivery_Time\": 15, \"Created_at\": \"2024-03-11 18:08:33\"}'\n",
      "Producing record: Purchase_simulator\tb'{\"purchase_ID\": \"5da2ffaac3\", \"Product_name\": \"La Pinta\", \"Pricing\": \"34500\", \"Delivery_Price\": \"4500\", \"Category\": \"Alta Cocina \\\\u00b7 Postres\", \"Payment_Method\": \"Credit_card\", \"Status\": \"FAILED_CHECKOUT\", \"Order_Type\": \"ONLINE\", \"City\": \"Cali\", \"Latitud\": \"3.4164091379805432\", \"Longitud\": \"-76.54751692551635\", \"Source\": \"Instagram\", \"User_Credits\": 15000, \"Tip\": 3000, \"Estimated_Delivery_Time\": 30, \"Created_at\": \"2024-03-11 18:08:34\"}'\n",
      "Producing record: Purchase_simulator\tb'{\"purchase_ID\": \"76f32c78ac\", \"Product_name\": \"Casa Vieja\", \"Pricing\": \"35000\", \"Delivery_Price\": \"6000\", \"Category\": \"Desayunos \\\\u00b7 T\\\\u00edpica\", \"Payment_Method\": \"PSE\", \"Status\": \"COMPLETED\", \"Order_Type\": \"ONLINE\", \"City\": \"Barranquilla\", \"Latitud\": \"11.004041676077495\", \"Longitud\": \"-74.78876005521157\", \"Source\": \"Influencer_2\", \"User_Credits\": 5000, \"Tip\": 5000, \"Estimated_Delivery_Time\": 27, \"Created_at\": \"2024-03-11 18:08:36\"}'\n",
      "Producing record: Purchase_simulator\tb'{\"purchase_ID\": \"b0321478d1\", \"Product_name\": \"Pasteleite\", \"Pricing\": \"9000\", \"Delivery_Price\": \"5900\", \"Category\": \"Desayunos \\\\u00b7 Panader\\\\u00eda\", \"Payment_Method\": \"PSE\", \"Status\": \"COMPLETED\", \"Order_Type\": \"ONLINE\", \"City\": \"Barranquilla\", \"Latitud\": \"11.004041676077495\", \"Longitud\": \"-74.83545204769058\", \"Source\": \"Influencer_4\", \"User_Credits\": 5000, \"Tip\": 2000, \"Estimated_Delivery_Time\": 38, \"Created_at\": \"2024-03-11 18:08:37\"}'\n",
      "Producing record: Purchase_simulator\tb'{\"purchase_ID\": \"7005fbf9b0\", \"Product_name\": \"La Gran Cazuela\", \"Pricing\": \"37900\", \"Delivery_Price\": \"3200\", \"Category\": \"Pescados y Mariscos\", \"Payment_Method\": \"Credit_card\", \"Status\": \"COMPLETED\", \"Order_Type\": \"ONLINE\", \"City\": \"Bucaramanga\", \"Latitud\": \"7.07243688331635\", \"Longitud\": \"-73.10525936227518\", \"Source\": \"Influencer_4\", \"User_Credits\": 2000, \"Tip\": 5000, \"Estimated_Delivery_Time\": 32, \"Created_at\": \"2024-03-11 18:08:38\"}'\n",
      "Producing record: Purchase_simulator\tb'{\"purchase_ID\": \"40734a1ecf\", \"Product_name\": \"Fiesta Digital Andr\\\\u00e9s\", \"Pricing\": \"35000\", \"Delivery_Price\": \"3100\", \"Category\": \"Comida R\\\\u00e1pida\", \"Payment_Method\": \"PSE\", \"Status\": \"INSUFICCIENT_FUNDS\", \"Order_Type\": \"ONLINE\", \"City\": \"Bucaramanga\", \"Latitud\": \"7.07243688331635\", \"Longitud\": \"-73.10525936227518\", \"Source\": \"Influencer_2\", \"User_Credits\": 2000, \"Tip\": 3000, \"Estimated_Delivery_Time\": 23, \"Created_at\": \"2024-03-11 18:08:39\"}'\n",
      "Producing record: Purchase_simulator\tb'{\"purchase_ID\": \"10677d32b3\", \"Product_name\": \"El Mondongo y Mucho Mas\", \"Pricing\": \"10700\", \"Delivery_Price\": \"5600\", \"Category\": \"T\\\\u00edpica\", \"Payment_Method\": \"Credit_card\", \"Status\": \"FRAUD\", \"Order_Type\": \"ONLINE\", \"City\": \"Barranquilla\", \"Latitud\": \"11.014167139030025\", \"Longitud\": \"-74.82747678131524\", \"Source\": \"Influencer_3\", \"User_Credits\": 20000, \"Tip\": 0, \"Estimated_Delivery_Time\": 33, \"Created_at\": \"2024-03-11 18:08:40\"}'\n",
      "Producing record: Purchase_simulator\tb'{\"purchase_ID\": \"2fceca851b\", \"Product_name\": \"La Mera Mera - Mexicana\", \"Pricing\": \"24200\", \"Delivery_Price\": \"3100\", \"Category\": \"Desayunos \\\\u00b7 Mexicana\", \"Payment_Method\": \"PSE\", \"Status\": \"FAILED_API_RESPONSE\", \"Order_Type\": \"ONLINE\", \"City\": \"Bucaramanga\", \"Latitud\": \"7.07243688331635\", \"Longitud\": \"-73.10730617492302\", \"Source\": \"Influencer_1\", \"User_Credits\": 5000, \"Tip\": 3000, \"Estimated_Delivery_Time\": 21, \"Created_at\": \"2024-03-11 18:08:42\"}'\n",
      "Producing record: Purchase_simulator\tb'{\"purchase_ID\": \"42d45cf50d\", \"Product_name\": \"Chicken House\", \"Pricing\": \"34500\", \"Delivery_Price\": \"4200\", \"Category\": \"Pollo\", \"Payment_Method\": \"PSE\", \"Status\": \"FRAUD\", \"Order_Type\": \"ONLINE\", \"City\": \"Barranquilla\", \"Latitud\": \"10.990580146449894\", \"Longitud\": \"-74.78876005521157\", \"Source\": \"Influencer_1\", \"User_Credits\": 2000, \"Tip\": 3000, \"Estimated_Delivery_Time\": 16, \"Created_at\": \"2024-03-11 18:08:43\"}'\n",
      "Producing record: Purchase_simulator\tb'{\"purchase_ID\": \"f52d4f7a1b\", \"Product_name\": \"El Portal de la Antigua\", \"Pricing\": \"10700\", \"Delivery_Price\": \"5600\", \"Category\": \"T\\\\u00edpica \\\\u00b7 Parrilla\", \"Payment_Method\": \"PSE\", \"Status\": \"INSUFICCIENT_FUNDS\", \"Order_Type\": \"ONLINE\", \"City\": \"Barranquilla\", \"Latitud\": \"10.990580146449894\", \"Longitud\": \"-74.83545204769058\", \"Source\": \"Influencer_3\", \"User_Credits\": 20000, \"Tip\": 0, \"Estimated_Delivery_Time\": 33, \"Created_at\": \"2024-03-11 18:08:44\"}'\n",
      "Producing record: Purchase_simulator\tb'{\"purchase_ID\": \"7a8fc27171\", \"Product_name\": \"Sopas Mrg\", \"Pricing\": \"23000\", \"Delivery_Price\": \"3100\", \"Category\": \"Saludable \\\\u00b7 T\\\\u00edpica\", \"Payment_Method\": \"Credit_card\", \"Status\": \"INSUFICCIENT_FUNDS\", \"Order_Type\": \"ONLINE\", \"City\": \"Bogot\\\\u00e1\", \"Latitud\": \"4.661984763443271\", \"Longitud\": \"-74.10186525959672\", \"Source\": \"Influencer_2\", \"User_Credits\": 2000, \"Tip\": 0, \"Estimated_Delivery_Time\": 22, \"Created_at\": \"2024-03-11 18:08:46\"}'\n",
      "Producing record: Purchase_simulator\tb'{\"purchase_ID\": \"d4c75d559b\", \"Product_name\": \"Saludable Mrg\", \"Pricing\": \"24300\", \"Delivery_Price\": \"5800\", \"Category\": \"Saludable \\\\u00b7 T\\\\u00edpica\", \"Payment_Method\": \"Credit_card\", \"Status\": \"COMPLETED\", \"Order_Type\": \"ONLINE\", \"City\": \"Cali\", \"Latitud\": \"3.4287786094866717\", \"Longitud\": \"-76.54041613631288\", \"Source\": \"Influencer_2\", \"User_Credits\": 5000, \"Tip\": 5000, \"Estimated_Delivery_Time\": 42, \"Created_at\": \"2024-03-11 18:08:47\"}'\n"
     ]
    },
    {
     "ename": "KeyboardInterrupt",
     "evalue": "",
     "output_type": "error",
     "traceback": [
      "\u001b[0;31m---------------------------------------------------------------------------\u001b[0m",
      "\u001b[0;31mKeyboardInterrupt\u001b[0m                         Traceback (most recent call last)",
      "Cell \u001b[0;32mIn[51], line 58\u001b[0m\n\u001b[1;32m     55\u001b[0m producer\u001b[38;5;241m.\u001b[39mpoll(\u001b[38;5;241m0\u001b[39m)\n\u001b[1;32m     56\u001b[0m delivered_records \u001b[38;5;241m+\u001b[39m\u001b[38;5;241m=\u001b[39m \u001b[38;5;241m1\u001b[39m\n\u001b[0;32m---> 58\u001b[0m \u001b[43mtime\u001b[49m\u001b[38;5;241;43m.\u001b[39;49m\u001b[43msleep\u001b[49m\u001b[43m(\u001b[49m\u001b[43mrandom\u001b[49m\u001b[38;5;241;43m.\u001b[39;49m\u001b[43mchoice\u001b[49m\u001b[43m(\u001b[49m\u001b[43m[\u001b[49m\u001b[38;5;241;43m1\u001b[39;49m\u001b[43m,\u001b[49m\u001b[43m \u001b[49m\u001b[38;5;241;43m1.5\u001b[39;49m\u001b[43m]\u001b[49m\u001b[43m)\u001b[49m\u001b[43m)\u001b[49m\n\u001b[1;32m     60\u001b[0m producer\u001b[38;5;241m.\u001b[39mflush()\n",
      "\u001b[0;31mKeyboardInterrupt\u001b[0m: "
     ]
    },
    {
     "name": "stderr",
     "output_type": "stream",
     "text": [
      "%5|1710202534.787|REQTMOUT|rdkafka#producer-2| [thrd:sasl_ssl://b14-pkc-p11xm.us-east-1.aws.confluent.cloud:9092/14]: sasl_ssl://b14-pkc-p11xm.us-east-1.aws.confluent.cloud:9092/14: Timed out MetadataRequest in flight (after 60077ms, timeout #0)\n",
      "%4|1710202534.787|REQTMOUT|rdkafka#producer-2| [thrd:sasl_ssl://b14-pkc-p11xm.us-east-1.aws.confluent.cloud:9092/14]: sasl_ssl://b14-pkc-p11xm.us-east-1.aws.confluent.cloud:9092/14: Timed out 1 in-flight, 0 retry-queued, 0 out-queue, 0 partially-sent requests\n",
      "%3|1710202534.787|FAIL|rdkafka#producer-2| [thrd:sasl_ssl://b14-pkc-p11xm.us-east-1.aws.confluent.cloud:9092/14]: sasl_ssl://b14-pkc-p11xm.us-east-1.aws.confluent.cloud:9092/14: 1 request(s) timed out: disconnect (after 838309ms in state UP, 1 identical error(s) suppressed)\n",
      "%5|1710202595.384|REQTMOUT|rdkafka#producer-2| [thrd:sasl_ssl://b5-pkc-p11xm.us-east-1.aws.confluent.cloud:9092/5]: sasl_ssl://b5-pkc-p11xm.us-east-1.aws.confluent.cloud:9092/5: Timed out MetadataRequest in flight (after 60596ms, timeout #0)\n",
      "%5|1710202595.384|REQTMOUT|rdkafka#producer-2| [thrd:sasl_ssl://b5-pkc-p11xm.us-east-1.aws.confluent.cloud:9092/5]: sasl_ssl://b5-pkc-p11xm.us-east-1.aws.confluent.cloud:9092/5: Timed out MetadataRequest in flight (after 60074ms, timeout #1)\n",
      "%4|1710202595.384|REQTMOUT|rdkafka#producer-2| [thrd:sasl_ssl://b5-pkc-p11xm.us-east-1.aws.confluent.cloud:9092/5]: sasl_ssl://b5-pkc-p11xm.us-east-1.aws.confluent.cloud:9092/5: Timed out 2 in-flight, 0 retry-queued, 0 out-queue, 0 partially-sent requests\n",
      "%3|1710202595.384|FAIL|rdkafka#producer-2| [thrd:sasl_ssl://b5-pkc-p11xm.us-east-1.aws.confluent.cloud:9092/5]: sasl_ssl://b5-pkc-p11xm.us-east-1.aws.confluent.cloud:9092/5: 2 request(s) timed out: disconnect (after 959001ms in state UP)\n",
      "%5|1710203134.785|REQTMOUT|rdkafka#producer-2| [thrd:sasl_ssl://b5-pkc-p11xm.us-east-1.aws.confluent.cloud:9092/5]: sasl_ssl://b5-pkc-p11xm.us-east-1.aws.confluent.cloud:9092/5: Timed out MetadataRequest in flight (after 60070ms, timeout #0)\n",
      "%4|1710203134.785|REQTMOUT|rdkafka#producer-2| [thrd:sasl_ssl://b5-pkc-p11xm.us-east-1.aws.confluent.cloud:9092/5]: sasl_ssl://b5-pkc-p11xm.us-east-1.aws.confluent.cloud:9092/5: Timed out 1 in-flight, 0 retry-queued, 0 out-queue, 0 partially-sent requests\n",
      "%3|1710203134.794|FAIL|rdkafka#producer-2| [thrd:sasl_ssl://b5-pkc-p11xm.us-east-1.aws.confluent.cloud:9092/5]: sasl_ssl://b5-pkc-p11xm.us-east-1.aws.confluent.cloud:9092/5: 1 request(s) timed out: disconnect (after 538672ms in state UP)\n",
      "%5|1710203194.871|REQTMOUT|rdkafka#producer-2| [thrd:sasl_ssl://b14-pkc-p11xm.us-east-1.aws.confluent.cloud:9092/14]: sasl_ssl://b14-pkc-p11xm.us-east-1.aws.confluent.cloud:9092/14: Timed out MetadataRequest in flight (after 60075ms, timeout #0)\n",
      "%4|1710203194.873|REQTMOUT|rdkafka#producer-2| [thrd:sasl_ssl://b14-pkc-p11xm.us-east-1.aws.confluent.cloud:9092/14]: sasl_ssl://b14-pkc-p11xm.us-east-1.aws.confluent.cloud:9092/14: Timed out 1 in-flight, 0 retry-queued, 0 out-queue, 0 partially-sent requests\n",
      "%3|1710203194.874|FAIL|rdkafka#producer-2| [thrd:sasl_ssl://b14-pkc-p11xm.us-east-1.aws.confluent.cloud:9092/14]: sasl_ssl://b14-pkc-p11xm.us-east-1.aws.confluent.cloud:9092/14: 1 request(s) timed out: disconnect (after 658418ms in state UP, 1 identical error(s) suppressed)\n",
      "%5|1710203734.794|REQTMOUT|rdkafka#producer-2| [thrd:sasl_ssl://b14-pkc-p11xm.us-east-1.aws.confluent.cloud:9092/14]: sasl_ssl://b14-pkc-p11xm.us-east-1.aws.confluent.cloud:9092/14: Timed out MetadataRequest in flight (after 60081ms, timeout #0)\n",
      "%4|1710203734.794|REQTMOUT|rdkafka#producer-2| [thrd:sasl_ssl://b14-pkc-p11xm.us-east-1.aws.confluent.cloud:9092/14]: sasl_ssl://b14-pkc-p11xm.us-east-1.aws.confluent.cloud:9092/14: Timed out 1 in-flight, 0 retry-queued, 0 out-queue, 0 partially-sent requests\n",
      "%3|1710203734.795|FAIL|rdkafka#producer-2| [thrd:sasl_ssl://b14-pkc-p11xm.us-east-1.aws.confluent.cloud:9092/14]: sasl_ssl://b14-pkc-p11xm.us-east-1.aws.confluent.cloud:9092/14: 1 request(s) timed out: disconnect (after 538516ms in state UP, 1 identical error(s) suppressed)\n",
      "%5|1710203795.494|REQTMOUT|rdkafka#producer-2| [thrd:sasl_ssl://b5-pkc-p11xm.us-east-1.aws.confluent.cloud:9092/5]: sasl_ssl://b5-pkc-p11xm.us-east-1.aws.confluent.cloud:9092/5: Timed out MetadataRequest in flight (after 60698ms, timeout #0)\n",
      "%5|1710203795.494|REQTMOUT|rdkafka#producer-2| [thrd:sasl_ssl://b5-pkc-p11xm.us-east-1.aws.confluent.cloud:9092/5]: sasl_ssl://b5-pkc-p11xm.us-east-1.aws.confluent.cloud:9092/5: Timed out MetadataRequest in flight (after 60075ms, timeout #1)\n",
      "%4|1710203795.494|REQTMOUT|rdkafka#producer-2| [thrd:sasl_ssl://b5-pkc-p11xm.us-east-1.aws.confluent.cloud:9092/5]: sasl_ssl://b5-pkc-p11xm.us-east-1.aws.confluent.cloud:9092/5: Timed out 2 in-flight, 0 retry-queued, 0 out-queue, 0 partially-sent requests\n",
      "%3|1710203795.494|FAIL|rdkafka#producer-2| [thrd:sasl_ssl://b5-pkc-p11xm.us-east-1.aws.confluent.cloud:9092/5]: sasl_ssl://b5-pkc-p11xm.us-east-1.aws.confluent.cloud:9092/5: 2 request(s) timed out: disconnect (after 659051ms in state UP)\n",
      "%5|1710204335.051|REQTMOUT|rdkafka#producer-2| [thrd:sasl_ssl://b5-pkc-p11xm.us-east-1.aws.confluent.cloud:9092/5]: sasl_ssl://b5-pkc-p11xm.us-east-1.aws.confluent.cloud:9092/5: Timed out MetadataRequest in flight (after 60338ms, timeout #0)\n",
      "%4|1710204335.052|REQTMOUT|rdkafka#producer-2| [thrd:sasl_ssl://b5-pkc-p11xm.us-east-1.aws.confluent.cloud:9092/5]: sasl_ssl://b5-pkc-p11xm.us-east-1.aws.confluent.cloud:9092/5: Timed out 1 in-flight, 0 retry-queued, 0 out-queue, 0 partially-sent requests\n",
      "%3|1710204335.052|FAIL|rdkafka#producer-2| [thrd:sasl_ssl://b5-pkc-p11xm.us-east-1.aws.confluent.cloud:9092/5]: sasl_ssl://b5-pkc-p11xm.us-east-1.aws.confluent.cloud:9092/5: 1 request(s) timed out: disconnect (after 538840ms in state UP)\n",
      "%5|1710204395.128|REQTMOUT|rdkafka#producer-2| [thrd:sasl_ssl://b14-pkc-p11xm.us-east-1.aws.confluent.cloud:9092/14]: sasl_ssl://b14-pkc-p11xm.us-east-1.aws.confluent.cloud:9092/14: Timed out MetadataRequest in flight (after 60075ms, timeout #0)\n",
      "%4|1710204395.129|REQTMOUT|rdkafka#producer-2| [thrd:sasl_ssl://b14-pkc-p11xm.us-east-1.aws.confluent.cloud:9092/14]: sasl_ssl://b14-pkc-p11xm.us-east-1.aws.confluent.cloud:9092/14: Timed out 1 in-flight, 0 retry-queued, 0 out-queue, 0 partially-sent requests\n",
      "%3|1710204395.129|FAIL|rdkafka#producer-2| [thrd:sasl_ssl://b14-pkc-p11xm.us-east-1.aws.confluent.cloud:9092/14]: sasl_ssl://b14-pkc-p11xm.us-east-1.aws.confluent.cloud:9092/14: 1 request(s) timed out: disconnect (after 658736ms in state UP, 1 identical error(s) suppressed)\n",
      "%5|1710204934.788|REQTMOUT|rdkafka#producer-2| [thrd:sasl_ssl://b14-pkc-p11xm.us-east-1.aws.confluent.cloud:9092/14]: sasl_ssl://b14-pkc-p11xm.us-east-1.aws.confluent.cloud:9092/14: Timed out MetadataRequest in flight (after 60075ms, timeout #0)\n",
      "%4|1710204934.789|REQTMOUT|rdkafka#producer-2| [thrd:sasl_ssl://b14-pkc-p11xm.us-east-1.aws.confluent.cloud:9092/14]: sasl_ssl://b14-pkc-p11xm.us-east-1.aws.confluent.cloud:9092/14: Timed out 1 in-flight, 0 retry-queued, 0 out-queue, 0 partially-sent requests\n",
      "%3|1710204934.789|FAIL|rdkafka#producer-2| [thrd:sasl_ssl://b14-pkc-p11xm.us-east-1.aws.confluent.cloud:9092/14]: sasl_ssl://b14-pkc-p11xm.us-east-1.aws.confluent.cloud:9092/14: 1 request(s) timed out: disconnect (after 538228ms in state UP, 1 identical error(s) suppressed)\n",
      "%5|1710204995.561|REQTMOUT|rdkafka#producer-2| [thrd:sasl_ssl://b5-pkc-p11xm.us-east-1.aws.confluent.cloud:9092/5]: sasl_ssl://b5-pkc-p11xm.us-east-1.aws.confluent.cloud:9092/5: Timed out MetadataRequest in flight (after 60772ms, timeout #0)\n",
      "%5|1710204995.562|REQTMOUT|rdkafka#producer-2| [thrd:sasl_ssl://b5-pkc-p11xm.us-east-1.aws.confluent.cloud:9092/5]: sasl_ssl://b5-pkc-p11xm.us-east-1.aws.confluent.cloud:9092/5: Timed out MetadataRequest in flight (after 60073ms, timeout #1)\n",
      "%4|1710204995.562|REQTMOUT|rdkafka#producer-2| [thrd:sasl_ssl://b5-pkc-p11xm.us-east-1.aws.confluent.cloud:9092/5]: sasl_ssl://b5-pkc-p11xm.us-east-1.aws.confluent.cloud:9092/5: Timed out 2 in-flight, 0 retry-queued, 0 out-queue, 0 partially-sent requests\n",
      "%3|1710204995.562|FAIL|rdkafka#producer-2| [thrd:sasl_ssl://b5-pkc-p11xm.us-east-1.aws.confluent.cloud:9092/5]: sasl_ssl://b5-pkc-p11xm.us-east-1.aws.confluent.cloud:9092/5: 2 request(s) timed out: disconnect (after 658912ms in state UP)\n"
     ]
    }
   ],
   "source": [
    "delivered_records = 0\n",
    "topic = 'rappi_orders' \n",
    "\n",
    "\n",
    "x = 1\n",
    "\n",
    "data_purchase = []\n",
    "\n",
    "while x > 0:\n",
    "    # Muestra aleatoria de una fila del DataFrame df\n",
    "    random_row = df.sample()\n",
    "\n",
    "    date = pd.to_datetime('today').strftime(\"%Y-%m-%d %H:%M:%S\")  # Obtiene la fecha y hora actual\n",
    "    product = random_row['Name'].values[0]  # Obtiene el valor de la columna 'Name' de la fila aleatoria\n",
    "    pricing = random_row['Purchase Price'].values[0]  # Obtiene el valor de la columna 'Purchase Price' de la fila aleatoria\n",
    "    delivery_price = random_row['Delivery Price'].values[0]  # Obtiene el valor de la columna 'Delivery Price' de la fila aleatoria\n",
    "    category = random_row['Category'].values[0]  # Obtiene el valor de la columna 'Category' de la fila aleatoria\n",
    "    source_temp = random.choice(source)  # Elige aleatoriamente una fuente de compra de la lista de fuentes disponibles\n",
    "    pay = get_pay_method(source_temp, status_purchase, payment_online, payment_store)  # Determina el método de pago, el estado de la compra y el tipo de orden\n",
    "    city = random.choice(cities)  # Elige aleatoriamente una ciudad de la lista de ciudades disponibles\n",
    "\n",
    "    # Obtiene los créditos a favor del usuario y la propina para el domiciliario\n",
    "    user_credits = get_user_credits()\n",
    "    tip = get_tip()\n",
    "\n",
    "    # Calcula el tiempo de entrega estimado\n",
    "    delivery_time = random.randint(15, 60)  # Estimación del tiempo de entrega en minutos\n",
    "\n",
    "    # Crea un diccionario con la información de la compra\n",
    "    purchase = {\n",
    "        'purchase_ID': str(hashlib.sha256(f\"{random_row.index.values[0]} {product} {pricing} {delivery_price} {date} {source_temp} {pay[1]}\".encode('utf-8')).hexdigest())[:10],\n",
    "        'Product_name': product,\n",
    "        'Pricing': str(pricing),\n",
    "        'Delivery_Price': str(delivery_price),\n",
    "        'Category': category,\n",
    "        'Payment_Method': pay[0],\n",
    "        'Status': pay[1],\n",
    "        'Order_Type': pay[2],\n",
    "        'City': city,\n",
    "        'Latitud': str(get_coords(city)[0]),\n",
    "        'Longitud': str(get_coords(city)[1]),\n",
    "        'Source': source_temp,\n",
    "        'User_Credits': user_credits,\n",
    "        'Tip': tip,\n",
    "        'Estimated_Delivery_Time': delivery_time,  # Tiempo de entrega estimado en minutos\n",
    "        'Created_at': date\n",
    "    }\n",
    "\n",
    "    #data_purchase.append(pd.DataFrame(purchase))\n",
    "\n",
    "    record_key = \"Purchase_simulator\"\n",
    "    record_value =  json.dumps(purchase).encode('utf-8')\n",
    "    print(\"Producing record: {}\\t{}\".format(record_key, record_value))\n",
    "    producer.produce(topic, key=record_key, value=record_value)\n",
    "    producer.poll(0)\n",
    "    delivered_records += 1\n",
    "\n",
    "    time.sleep(random.choice([1, 1.5]))\n",
    "\n",
    "    producer.flush()"
   ]
  },
  {
   "cell_type": "code",
   "execution_count": 41,
   "metadata": {},
   "outputs": [
    {
     "name": "stdout",
     "output_type": "stream",
     "text": [
      "\n",
      "\n",
      "\n",
      "\n",
      "4 messages were produced to topic topic_rappi!\n",
      "\n",
      "\n",
      "\n",
      "\n"
     ]
    }
   ],
   "source": [
    "print('\\n')\n",
    "print('\\n')\n",
    "print(\"{} messages were produced to topic {}!\".format(delivered_records, topic))\n",
    "print('\\n')\n",
    "print('\\n')"
   ]
  }
 ],
 "metadata": {
  "kernelspec": {
   "display_name": "env",
   "language": "python",
   "name": "python3"
  },
  "language_info": {
   "codemirror_mode": {
    "name": "ipython",
    "version": 3
   },
   "file_extension": ".py",
   "mimetype": "text/x-python",
   "name": "python",
   "nbconvert_exporter": "python",
   "pygments_lexer": "ipython3",
   "version": "3.8.10"
  }
 },
 "nbformat": 4,
 "nbformat_minor": 2
}
